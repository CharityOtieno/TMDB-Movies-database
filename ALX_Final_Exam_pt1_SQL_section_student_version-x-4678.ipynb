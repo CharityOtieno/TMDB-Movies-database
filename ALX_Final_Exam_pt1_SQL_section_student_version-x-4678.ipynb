{
 "cells": [
  {
   "cell_type": "markdown",
   "metadata": {
    "id": "O3uhQEw4Jqnt"
   },
   "source": [
    "# Gather Section (20 Questions, 40 Marks)\n",
    "\n",
    "You should have access to a file called TMDB.db. The first step to answering this set of questions will be to connect to this db file to access the data. \n",
    "\n",
    "![SQL Architectures](https://raw.githubusercontent.com/Explore-AI/Public-Data/master/image/TMDB_ERD.JPG)\n",
    "\n",
    "Before we start we need to load our SQL magic commands (we only need do this once per notebook):"
   ]
  },
  {
   "cell_type": "code",
   "execution_count": 1,
   "metadata": {
    "id": "tYyzGpQrJqnv"
   },
   "outputs": [],
   "source": [
    "%load_ext sql"
   ]
  },
  {
   "cell_type": "markdown",
   "metadata": {
    "id": "ok5TGOw3Jqnw"
   },
   "source": [
    "*Note: we have to prepend a Jupyter notebook cell with `%%sql` in order to run a SQL query. Place your code in the '# Your code here' lines. If you experience trouble connecting to the .db file, please ensure that you have the `pymysql` and `ipython-sql` packages installed. Also ensure that `sqlalchemy` is pinned at a version <2.*\n",
    "\n",
    "\n",
    "Based on that data, answer the following questions:\n",
    "\n",
    "\n",
    "### Question 11\n",
    "What is the code you can use to connect to the TMBD database that is saved in the same location with the Jupyter notebook?\n"
   ]
  },
  {
   "cell_type": "code",
   "execution_count": 2,
   "metadata": {
    "id": "bkHzM8QXJqnw"
   },
   "outputs": [
    {
     "data": {
      "text/plain": [
       "'Connected: @TMDB.db'"
      ]
     },
     "execution_count": 2,
     "metadata": {},
     "output_type": "execute_result"
    }
   ],
   "source": [
    "%%sql\n",
    "sqlite:///TMDB.db"
   ]
  },
  {
   "cell_type": "markdown",
   "metadata": {
    "id": "JgRO7x1-Jqnx"
   },
   "source": [
    "### Question 12\n",
    "What is the primary key for the table “movies”? Movie_Id\n",
    "\n"
   ]
  },
  {
   "cell_type": "markdown",
   "metadata": {
    "id": "KSkdaG_iJqnx"
   },
   "source": [
    "### Question 13\n",
    "How many foreign keys does the “languagemap” table have? 2\n",
    "\n"
   ]
  },
  {
   "cell_type": "markdown",
   "metadata": {
    "id": "eO7T-b9AJqnx"
   },
   "source": [
    "### Question 14\n",
    "What code would you use to set up a view of all movies that did not get released?\n"
   ]
  },
  {
   "cell_type": "code",
   "execution_count": 7,
   "metadata": {},
   "outputs": [
    {
     "name": "stdout",
     "output_type": "stream",
     "text": [
      " * sqlite:///TMDB.db\n",
      "Done.\n"
     ]
    },
    {
     "data": {
      "text/plain": [
       "[]"
      ]
     },
     "execution_count": 7,
     "metadata": {},
     "output_type": "execute_result"
    }
   ],
   "source": [
    "%%sql\n",
    "DROP VIEW Not_Released;"
   ]
  },
  {
   "cell_type": "code",
   "execution_count": 8,
   "metadata": {
    "id": "8FTBNKnlJqny"
   },
   "outputs": [
    {
     "name": "stdout",
     "output_type": "stream",
     "text": [
      " * sqlite:///TMDB.db\n",
      "Done.\n"
     ]
    },
    {
     "data": {
      "text/plain": [
       "[]"
      ]
     },
     "execution_count": 8,
     "metadata": {},
     "output_type": "execute_result"
    }
   ],
   "source": [
    "%%sql \n",
    "CREATE VIEW Not_Released AS\n",
    "SELECT * \n",
    "FROM movies \n",
    "WHERE release_status <> 'Released';"
   ]
  },
  {
   "cell_type": "markdown",
   "metadata": {
    "id": "GxuX_z8iJqny"
   },
   "source": [
    "### Question 15\n",
    "How would you select only the title, release date, and release status columns from the view you created in the previous question?\n"
   ]
  },
  {
   "cell_type": "code",
   "execution_count": 9,
   "metadata": {
    "id": "7E0ZI_d9Jqnz"
   },
   "outputs": [
    {
     "name": "stdout",
     "output_type": "stream",
     "text": [
      " * sqlite:///TMDB.db\n",
      "Done.\n"
     ]
    },
    {
     "data": {
      "text/html": [
       "<table>\n",
       "    <thead>\n",
       "        <tr>\n",
       "            <th>title</th>\n",
       "            <th>release_date</th>\n",
       "            <th>release_status</th>\n",
       "        </tr>\n",
       "    </thead>\n",
       "    <tbody>\n",
       "        <tr>\n",
       "            <td>Little Big Top</td>\n",
       "            <td>2006-01-01 00:00:00.000000</td>\n",
       "            <td>Rumored</td>\n",
       "        </tr>\n",
       "        <tr>\n",
       "            <td>The Helix... Loaded</td>\n",
       "            <td>2005-01-01 00:00:00.000000</td>\n",
       "            <td>Rumored</td>\n",
       "        </tr>\n",
       "        <tr>\n",
       "            <td>Higher Ground</td>\n",
       "            <td>2011-08-26 00:00:00.000000</td>\n",
       "            <td>Post Production</td>\n",
       "        </tr>\n",
       "        <tr>\n",
       "            <td>Crying with Laughter</td>\n",
       "            <td>2009-06-01 00:00:00.000000</td>\n",
       "            <td>Rumored</td>\n",
       "        </tr>\n",
       "        <tr>\n",
       "            <td>The Harvest (La Cosecha)</td>\n",
       "            <td>2011-07-29 00:00:00.000000</td>\n",
       "            <td>Rumored</td>\n",
       "        </tr>\n",
       "        <tr>\n",
       "            <td>The Naked Ape</td>\n",
       "            <td>2006-09-16 00:00:00.000000</td>\n",
       "            <td>Rumored</td>\n",
       "        </tr>\n",
       "        <tr>\n",
       "            <td>Brotherly Love</td>\n",
       "            <td>2015-04-24 00:00:00.000000</td>\n",
       "            <td>Post Production</td>\n",
       "        </tr>\n",
       "        <tr>\n",
       "            <td>Dancin&#x27; It&#x27;s On</td>\n",
       "            <td>2015-10-16 00:00:00.000000</td>\n",
       "            <td>Post Production</td>\n",
       "        </tr>\n",
       "    </tbody>\n",
       "</table>"
      ],
      "text/plain": [
       "[('Little Big Top', '2006-01-01 00:00:00.000000', 'Rumored'),\n",
       " ('The Helix... Loaded', '2005-01-01 00:00:00.000000', 'Rumored'),\n",
       " ('Higher Ground', '2011-08-26 00:00:00.000000', 'Post Production'),\n",
       " ('Crying with Laughter', '2009-06-01 00:00:00.000000', 'Rumored'),\n",
       " ('The Harvest (La Cosecha)', '2011-07-29 00:00:00.000000', 'Rumored'),\n",
       " ('The Naked Ape', '2006-09-16 00:00:00.000000', 'Rumored'),\n",
       " ('Brotherly Love', '2015-04-24 00:00:00.000000', 'Post Production'),\n",
       " (\"Dancin' It's On\", '2015-10-16 00:00:00.000000', 'Post Production')]"
      ]
     },
     "execution_count": 9,
     "metadata": {},
     "output_type": "execute_result"
    }
   ],
   "source": [
    "%%sql \n",
    "Select title,\n",
    "release_date,\n",
    "release_status \n",
    "From Not_Released;"
   ]
  },
  {
   "cell_type": "markdown",
   "metadata": {
    "id": "WYqGtSSkJqnz"
   },
   "source": [
    "### Question 16\n",
    "How many movies are no longer using their original titles?\n",
    "\n"
   ]
  },
  {
   "cell_type": "code",
   "execution_count": 10,
   "metadata": {
    "id": "4l4MbDo2Jqn0"
   },
   "outputs": [
    {
     "name": "stdout",
     "output_type": "stream",
     "text": [
      " * sqlite:///TMDB.db\n",
      "Done.\n"
     ]
    },
    {
     "data": {
      "text/html": [
       "<table>\n",
       "    <thead>\n",
       "        <tr>\n",
       "            <th>COUNT(*)</th>\n",
       "        </tr>\n",
       "    </thead>\n",
       "    <tbody>\n",
       "        <tr>\n",
       "            <td>261</td>\n",
       "        </tr>\n",
       "    </tbody>\n",
       "</table>"
      ],
      "text/plain": [
       "[(261,)]"
      ]
     },
     "execution_count": 10,
     "metadata": {},
     "output_type": "execute_result"
    }
   ],
   "source": [
    "%%sql\n",
    "SELECT COUNT(*)\n",
    "FROM movies\n",
    "WHERE original_title IS NOT NULL\n",
    "  AND original_title <> title;"
   ]
  },
  {
   "cell_type": "markdown",
   "metadata": {
    "id": "_ZJuNLfPJqn0"
   },
   "source": [
    "### Question 17\n",
    "What is the most popular movie that was made after 01/01/2000 with a budget of more than $100 000 000? (Hint: Use the popularity field in the Movies table. Larger numbers are more popular.)\n"
   ]
  },
  {
   "cell_type": "code",
   "execution_count": 11,
   "metadata": {
    "id": "AY2PN5HzJqn0"
   },
   "outputs": [
    {
     "name": "stdout",
     "output_type": "stream",
     "text": [
      " * sqlite:///TMDB.db\n",
      "Done.\n"
     ]
    },
    {
     "data": {
      "text/html": [
       "<table>\n",
       "    <thead>\n",
       "        <tr>\n",
       "            <th>title</th>\n",
       "            <th>release_date</th>\n",
       "            <th>budget</th>\n",
       "            <th>popularity</th>\n",
       "            <th>original_language</th>\n",
       "        </tr>\n",
       "    </thead>\n",
       "    <tbody>\n",
       "        <tr>\n",
       "            <td>Interstellar</td>\n",
       "            <td>2014-11-05 00:00:00.000000</td>\n",
       "            <td>165000000</td>\n",
       "            <td>724.247784</td>\n",
       "            <td>en</td>\n",
       "        </tr>\n",
       "    </tbody>\n",
       "</table>"
      ],
      "text/plain": [
       "[('Interstellar', '2014-11-05 00:00:00.000000', 165000000, 724.247784, 'en')]"
      ]
     },
     "execution_count": 11,
     "metadata": {},
     "output_type": "execute_result"
    }
   ],
   "source": [
    "%%sql \n",
    "SELECT title, release_date, budget, popularity, original_language\n",
    "FROM movies\n",
    "WHERE release_date > '2000-01-01'\n",
    "  AND budget > 100000000\n",
    "ORDER BY popularity DESC\n",
    "LIMIT 1;"
   ]
  },
  {
   "cell_type": "markdown",
   "metadata": {
    "id": "CfRuCZ68Jqn0"
   },
   "source": [
    "### Question 18\n",
    "How many movies are there that do not have English as their original language? \n",
    "\n"
   ]
  },
  {
   "cell_type": "code",
   "execution_count": 12,
   "metadata": {
    "id": "xptzYlgmJqn1"
   },
   "outputs": [
    {
     "name": "stdout",
     "output_type": "stream",
     "text": [
      " * sqlite:///TMDB.db\n",
      "Done.\n"
     ]
    },
    {
     "data": {
      "text/html": [
       "<table>\n",
       "    <thead>\n",
       "        <tr>\n",
       "            <th>COUNT(*)</th>\n",
       "        </tr>\n",
       "    </thead>\n",
       "    <tbody>\n",
       "        <tr>\n",
       "            <td>298</td>\n",
       "        </tr>\n",
       "    </tbody>\n",
       "</table>"
      ],
      "text/plain": [
       "[(298,)]"
      ]
     },
     "execution_count": 12,
     "metadata": {},
     "output_type": "execute_result"
    }
   ],
   "source": [
    "%%sql \n",
    "SELECT COUNT(*)\n",
    "FROM movies\n",
    "WHERE original_language <> 'en' \n",
    "    OR original_language IS NULL;"
   ]
  },
  {
   "cell_type": "markdown",
   "metadata": {
    "id": "Xrn3qSOTJqn1"
   },
   "source": [
    "### Question 19\n",
    "How many movies in the database were produced by Pixar Animation Studios?\n",
    "\n"
   ]
  },
  {
   "cell_type": "code",
   "execution_count": 13,
   "metadata": {},
   "outputs": [
    {
     "name": "stdout",
     "output_type": "stream",
     "text": [
      " * sqlite:///TMDB.db\n",
      "Done.\n"
     ]
    },
    {
     "data": {
      "text/html": [
       "<table>\n",
       "    <thead>\n",
       "        <tr>\n",
       "            <th>cid</th>\n",
       "            <th>name</th>\n",
       "            <th>type</th>\n",
       "            <th>notnull</th>\n",
       "            <th>dflt_value</th>\n",
       "            <th>pk</th>\n",
       "        </tr>\n",
       "    </thead>\n",
       "    <tbody>\n",
       "        <tr>\n",
       "            <td>0</td>\n",
       "            <td>movie_id</td>\n",
       "            <td>INTEGER</td>\n",
       "            <td>1</td>\n",
       "            <td>None</td>\n",
       "            <td>1</td>\n",
       "        </tr>\n",
       "        <tr>\n",
       "            <td>1</td>\n",
       "            <td>title</td>\n",
       "            <td>varchar(500)</td>\n",
       "            <td>0</td>\n",
       "            <td>NULL</td>\n",
       "            <td>0</td>\n",
       "        </tr>\n",
       "        <tr>\n",
       "            <td>2</td>\n",
       "            <td>release_date</td>\n",
       "            <td>datetime(6)</td>\n",
       "            <td>0</td>\n",
       "            <td>NULL</td>\n",
       "            <td>0</td>\n",
       "        </tr>\n",
       "        <tr>\n",
       "            <td>3</td>\n",
       "            <td>budget</td>\n",
       "            <td>INTEGER</td>\n",
       "            <td>0</td>\n",
       "            <td>NULL</td>\n",
       "            <td>0</td>\n",
       "        </tr>\n",
       "        <tr>\n",
       "            <td>4</td>\n",
       "            <td>homepage</td>\n",
       "            <td>varchar(500)</td>\n",
       "            <td>0</td>\n",
       "            <td>NULL</td>\n",
       "            <td>0</td>\n",
       "        </tr>\n",
       "        <tr>\n",
       "            <td>5</td>\n",
       "            <td>original_language</td>\n",
       "            <td>varchar(50)</td>\n",
       "            <td>0</td>\n",
       "            <td>NULL</td>\n",
       "            <td>0</td>\n",
       "        </tr>\n",
       "        <tr>\n",
       "            <td>6</td>\n",
       "            <td>original_title</td>\n",
       "            <td>varchar(500)</td>\n",
       "            <td>0</td>\n",
       "            <td>NULL</td>\n",
       "            <td>0</td>\n",
       "        </tr>\n",
       "        <tr>\n",
       "            <td>7</td>\n",
       "            <td>overview</td>\n",
       "            <td>varchar(5000)</td>\n",
       "            <td>0</td>\n",
       "            <td>NULL</td>\n",
       "            <td>0</td>\n",
       "        </tr>\n",
       "        <tr>\n",
       "            <td>8</td>\n",
       "            <td>popularity</td>\n",
       "            <td>double</td>\n",
       "            <td>0</td>\n",
       "            <td>NULL</td>\n",
       "            <td>0</td>\n",
       "        </tr>\n",
       "        <tr>\n",
       "            <td>9</td>\n",
       "            <td>revenue</td>\n",
       "            <td>double</td>\n",
       "            <td>0</td>\n",
       "            <td>NULL</td>\n",
       "            <td>0</td>\n",
       "        </tr>\n",
       "        <tr>\n",
       "            <td>10</td>\n",
       "            <td>runtime</td>\n",
       "            <td>double</td>\n",
       "            <td>0</td>\n",
       "            <td>NULL</td>\n",
       "            <td>0</td>\n",
       "        </tr>\n",
       "        <tr>\n",
       "            <td>11</td>\n",
       "            <td>release_status</td>\n",
       "            <td>varchar(50)</td>\n",
       "            <td>0</td>\n",
       "            <td>NULL</td>\n",
       "            <td>0</td>\n",
       "        </tr>\n",
       "        <tr>\n",
       "            <td>12</td>\n",
       "            <td>tagline</td>\n",
       "            <td>varchar(500)</td>\n",
       "            <td>0</td>\n",
       "            <td>NULL</td>\n",
       "            <td>0</td>\n",
       "        </tr>\n",
       "        <tr>\n",
       "            <td>13</td>\n",
       "            <td>vote_average</td>\n",
       "            <td>double</td>\n",
       "            <td>0</td>\n",
       "            <td>NULL</td>\n",
       "            <td>0</td>\n",
       "        </tr>\n",
       "        <tr>\n",
       "            <td>14</td>\n",
       "            <td>vote_count</td>\n",
       "            <td>INTEGER</td>\n",
       "            <td>0</td>\n",
       "            <td>NULL</td>\n",
       "            <td>0</td>\n",
       "        </tr>\n",
       "    </tbody>\n",
       "</table>"
      ],
      "text/plain": [
       "[(0, 'movie_id', 'INTEGER', 1, None, 1),\n",
       " (1, 'title', 'varchar(500)', 0, 'NULL', 0),\n",
       " (2, 'release_date', 'datetime(6)', 0, 'NULL', 0),\n",
       " (3, 'budget', 'INTEGER', 0, 'NULL', 0),\n",
       " (4, 'homepage', 'varchar(500)', 0, 'NULL', 0),\n",
       " (5, 'original_language', 'varchar(50)', 0, 'NULL', 0),\n",
       " (6, 'original_title', 'varchar(500)', 0, 'NULL', 0),\n",
       " (7, 'overview', 'varchar(5000)', 0, 'NULL', 0),\n",
       " (8, 'popularity', 'double', 0, 'NULL', 0),\n",
       " (9, 'revenue', 'double', 0, 'NULL', 0),\n",
       " (10, 'runtime', 'double', 0, 'NULL', 0),\n",
       " (11, 'release_status', 'varchar(50)', 0, 'NULL', 0),\n",
       " (12, 'tagline', 'varchar(500)', 0, 'NULL', 0),\n",
       " (13, 'vote_average', 'double', 0, 'NULL', 0),\n",
       " (14, 'vote_count', 'INTEGER', 0, 'NULL', 0)]"
      ]
     },
     "execution_count": 13,
     "metadata": {},
     "output_type": "execute_result"
    }
   ],
   "source": [
    "%%sql\n",
    "PRAGMA table_info(movies);"
   ]
  },
  {
   "cell_type": "code",
   "execution_count": 14,
   "metadata": {
    "id": "KaZyZChwJqn2"
   },
   "outputs": [
    {
     "name": "stdout",
     "output_type": "stream",
     "text": [
      " * sqlite:///TMDB.db\n",
      "Done.\n"
     ]
    },
    {
     "data": {
      "text/html": [
       "<table>\n",
       "    <thead>\n",
       "        <tr>\n",
       "            <th>num_movies</th>\n",
       "        </tr>\n",
       "    </thead>\n",
       "    <tbody>\n",
       "        <tr>\n",
       "            <td>16</td>\n",
       "        </tr>\n",
       "    </tbody>\n",
       "</table>"
      ],
      "text/plain": [
       "[(16,)]"
      ]
     },
     "execution_count": 14,
     "metadata": {},
     "output_type": "execute_result"
    }
   ],
   "source": [
    "%%sql \n",
    "SELECT COUNT(DISTINCT pcm.movie_id) AS num_movies\n",
    "FROM ProductionCompanyMap pcm\n",
    "JOIN ProductionCompanies pc ON pcm.production_company_id = pc.production_company_id\n",
    "WHERE pc.production_company_name = 'Pixar Animation Studios';\n",
    " "
   ]
  },
  {
   "cell_type": "markdown",
   "metadata": {
    "id": "_ewCIJeBJqn2"
   },
   "source": [
    "### Question 20\n",
    "How many movies are in the database that are both a Romance and a Comedy?\n"
   ]
  },
  {
   "cell_type": "code",
   "execution_count": 15,
   "metadata": {
    "id": "4plDKomDJqn2"
   },
   "outputs": [
    {
     "name": "stdout",
     "output_type": "stream",
     "text": [
      " * sqlite:///TMDB.db\n",
      "Done.\n"
     ]
    },
    {
     "data": {
      "text/html": [
       "<table>\n",
       "    <thead>\n",
       "        <tr>\n",
       "            <th>num_movies</th>\n",
       "        </tr>\n",
       "    </thead>\n",
       "    <tbody>\n",
       "        <tr>\n",
       "            <td>484</td>\n",
       "        </tr>\n",
       "    </tbody>\n",
       "</table>"
      ],
      "text/plain": [
       "[(484,)]"
      ]
     },
     "execution_count": 15,
     "metadata": {},
     "output_type": "execute_result"
    }
   ],
   "source": [
    "%%sql \n",
    "SELECT COUNT(DISTINCT gm1.movie_id) AS num_movies\n",
    "FROM genremap gm1\n",
    "JOIN genremap gm2 ON gm1.movie_id = gm2.movie_id\n",
    "JOIN genres g1 ON gm1.genre_id = g1.genre_id\n",
    "JOIN genres g2 ON gm2.genre_id = g2.genre_id\n",
    "WHERE g1.genre_name = 'Romance'\n",
    "  AND g2.genre_name = 'Comedy';"
   ]
  },
  {
   "cell_type": "markdown",
   "metadata": {
    "id": "SRlyr7qcJqn2"
   },
   "source": [
    "### Question 21\n",
    "What is the most popular action movie that has some German in it? (Hint: The German word for German is Deutsch)"
   ]
  },
  {
   "cell_type": "code",
   "execution_count": 16,
   "metadata": {
    "id": "9aS6m4uxJqn3"
   },
   "outputs": [
    {
     "name": "stdout",
     "output_type": "stream",
     "text": [
      " * sqlite:///TMDB.db\n",
      "Done.\n"
     ]
    },
    {
     "data": {
      "text/html": [
       "<table>\n",
       "    <thead>\n",
       "        <tr>\n",
       "            <th>title</th>\n",
       "            <th>popularity</th>\n",
       "        </tr>\n",
       "    </thead>\n",
       "    <tbody>\n",
       "        <tr>\n",
       "            <td>Captain America: Civil War</td>\n",
       "            <td>198.372395</td>\n",
       "        </tr>\n",
       "    </tbody>\n",
       "</table>"
      ],
      "text/plain": [
       "[('Captain America: Civil War', 198.372395)]"
      ]
     },
     "execution_count": 16,
     "metadata": {},
     "output_type": "execute_result"
    }
   ],
   "source": [
    "%%sql \n",
    "SELECT m.title, m.popularity\n",
    "FROM movies m\n",
    "JOIN genremap gm ON m.movie_id = gm.movie_id\n",
    "JOIN genres g ON gm.genre_id = g.genre_id\n",
    "JOIN languageMap lm ON m.movie_id = lm.movie_id\n",
    "JOIN languages l ON lm.iso_639_1 = l.iso_639_1\n",
    "WHERE g.genre_name = 'Action'\n",
    "  AND l.language_name = 'Deutsch'\n",
    "ORDER BY m.popularity DESC\n",
    "LIMIT 1;\n"
   ]
  },
  {
   "cell_type": "markdown",
   "metadata": {
    "id": "1z4656wQJqn3"
   },
   "source": [
    "### Question 22\n",
    "In how many movies did Tom Cruise portray the character Ethan Hunt?\n",
    "\n"
   ]
  },
  {
   "cell_type": "code",
   "execution_count": 17,
   "metadata": {},
   "outputs": [
    {
     "name": "stdout",
     "output_type": "stream",
     "text": [
      " * sqlite:///TMDB.db\n",
      "Done.\n"
     ]
    },
    {
     "data": {
      "text/html": [
       "<table>\n",
       "    <thead>\n",
       "        <tr>\n",
       "            <th>actor_id</th>\n",
       "        </tr>\n",
       "    </thead>\n",
       "    <tbody>\n",
       "        <tr>\n",
       "            <td>500</td>\n",
       "        </tr>\n",
       "    </tbody>\n",
       "</table>"
      ],
      "text/plain": [
       "[(500,)]"
      ]
     },
     "execution_count": 17,
     "metadata": {},
     "output_type": "execute_result"
    }
   ],
   "source": [
    "%%sql\n",
    "SELECT actor_id\n",
    "FROM actors\n",
    "WHERE actor_name = 'Tom Cruise';\n"
   ]
  },
  {
   "cell_type": "code",
   "execution_count": 18,
   "metadata": {
    "id": "CiuwUD-NJqn3"
   },
   "outputs": [
    {
     "name": "stdout",
     "output_type": "stream",
     "text": [
      " * sqlite:///TMDB.db\n",
      "Done.\n"
     ]
    },
    {
     "data": {
      "text/html": [
       "<table>\n",
       "    <thead>\n",
       "        <tr>\n",
       "            <th>COUNT(*)</th>\n",
       "        </tr>\n",
       "    </thead>\n",
       "    <tbody>\n",
       "        <tr>\n",
       "            <td>5</td>\n",
       "        </tr>\n",
       "    </tbody>\n",
       "</table>"
      ],
      "text/plain": [
       "[(5,)]"
      ]
     },
     "execution_count": 18,
     "metadata": {},
     "output_type": "execute_result"
    }
   ],
   "source": [
    "%%sql \n",
    "SELECT COUNT(*)\n",
    "FROM casts\n",
    "WHERE actor_id = 500\n",
    "  AND characters = 'Ethan Hunt';"
   ]
  },
  {
   "cell_type": "markdown",
   "metadata": {
    "id": "cUsRwRKJJqn3"
   },
   "source": [
    "### Question 23 \n",
    "How many times was the actress Cate Blanchett nominated for an Oscar?"
   ]
  },
  {
   "cell_type": "code",
   "execution_count": 19,
   "metadata": {},
   "outputs": [
    {
     "name": "stdout",
     "output_type": "stream",
     "text": [
      " * sqlite:///TMDB.db\n",
      "Done.\n"
     ]
    },
    {
     "data": {
      "text/html": [
       "<table>\n",
       "    <thead>\n",
       "        <tr>\n",
       "            <th>actor_id</th>\n",
       "        </tr>\n",
       "    </thead>\n",
       "    <tbody>\n",
       "        <tr>\n",
       "            <td>112</td>\n",
       "        </tr>\n",
       "    </tbody>\n",
       "</table>"
      ],
      "text/plain": [
       "[(112,)]"
      ]
     },
     "execution_count": 19,
     "metadata": {},
     "output_type": "execute_result"
    }
   ],
   "source": [
    "%%sql\n",
    "SELECT actor_id\n",
    "FROM actors\n",
    "WHERE actor_name = 'Cate Blanchett';"
   ]
  },
  {
   "cell_type": "code",
   "execution_count": 20,
   "metadata": {
    "id": "JV_kvB2nJqn3"
   },
   "outputs": [
    {
     "name": "stdout",
     "output_type": "stream",
     "text": [
      " * sqlite:///TMDB.db\n",
      "Done.\n"
     ]
    },
    {
     "data": {
      "text/html": [
       "<table>\n",
       "    <thead>\n",
       "        <tr>\n",
       "            <th>COUNT(*)</th>\n",
       "        </tr>\n",
       "    </thead>\n",
       "    <tbody>\n",
       "        <tr>\n",
       "            <td>7</td>\n",
       "        </tr>\n",
       "    </tbody>\n",
       "</table>"
      ],
      "text/plain": [
       "[(7,)]"
      ]
     },
     "execution_count": 20,
     "metadata": {},
     "output_type": "execute_result"
    }
   ],
   "source": [
    "%%sql \n",
    "SELECT COUNT(*)\n",
    "FROM oscars\n",
    "WHERE name = 'Cate Blanchett';"
   ]
  },
  {
   "cell_type": "markdown",
   "metadata": {
    "id": "W8AUQIETJqn4"
   },
   "source": [
    "### Question 24\n",
    "How many movies contain at least one of the official South African Languages, Afrikaans or Zulu?"
   ]
  },
  {
   "cell_type": "code",
   "execution_count": 21,
   "metadata": {},
   "outputs": [
    {
     "name": "stdout",
     "output_type": "stream",
     "text": [
      " * sqlite:///TMDB.db\n",
      "Done.\n"
     ]
    },
    {
     "data": {
      "text/html": [
       "<table>\n",
       "    <thead>\n",
       "        <tr>\n",
       "            <th>iso_639_1</th>\n",
       "            <th>language_name</th>\n",
       "        </tr>\n",
       "    </thead>\n",
       "    <tbody>\n",
       "        <tr>\n",
       "            <td>af</td>\n",
       "            <td>Afrikaans</td>\n",
       "        </tr>\n",
       "    </tbody>\n",
       "</table>"
      ],
      "text/plain": [
       "[('af', 'Afrikaans')]"
      ]
     },
     "execution_count": 21,
     "metadata": {},
     "output_type": "execute_result"
    }
   ],
   "source": [
    "%%sql\n",
    "SELECT iso_639_1, language_name\n",
    "FROM languages\n",
    "WHERE language_name IN ('Afrikaans', 'Zulu');"
   ]
  },
  {
   "cell_type": "code",
   "execution_count": 22,
   "metadata": {
    "id": "VzRS8ueKJqn4"
   },
   "outputs": [
    {
     "name": "stdout",
     "output_type": "stream",
     "text": [
      " * sqlite:///TMDB.db\n",
      "Done.\n"
     ]
    },
    {
     "data": {
      "text/html": [
       "<table>\n",
       "    <thead>\n",
       "        <tr>\n",
       "            <th>count_of_movies</th>\n",
       "        </tr>\n",
       "    </thead>\n",
       "    <tbody>\n",
       "        <tr>\n",
       "            <td>8</td>\n",
       "        </tr>\n",
       "    </tbody>\n",
       "</table>"
      ],
      "text/plain": [
       "[(8,)]"
      ]
     },
     "execution_count": 22,
     "metadata": {},
     "output_type": "execute_result"
    }
   ],
   "source": [
    "%%sql \n",
    "SELECT COUNT(DISTINCT movie_id) AS count_of_movies\n",
    "FROM languagemap\n",
    "WHERE iso_639_1 IN ('af', 'zu');"
   ]
  },
  {
   "cell_type": "markdown",
   "metadata": {
    "id": "F_qQO_h7Jqn4"
   },
   "source": [
    "### Question 25\n",
    "Which of the movies mentioned above is the most popular?\n"
   ]
  },
  {
   "cell_type": "code",
   "execution_count": 23,
   "metadata": {
    "id": "U502HuAJJqn4"
   },
   "outputs": [
    {
     "name": "stdout",
     "output_type": "stream",
     "text": [
      " * sqlite:///TMDB.db\n",
      "Done.\n"
     ]
    },
    {
     "data": {
      "text/html": [
       "<table>\n",
       "    <thead>\n",
       "        <tr>\n",
       "            <th>title</th>\n",
       "            <th>popularity</th>\n",
       "        </tr>\n",
       "    </thead>\n",
       "    <tbody>\n",
       "        <tr>\n",
       "            <td>District 9</td>\n",
       "            <td>63.13678</td>\n",
       "        </tr>\n",
       "        <tr>\n",
       "            <td>District 9</td>\n",
       "            <td>63.13678</td>\n",
       "        </tr>\n",
       "        <tr>\n",
       "            <td>Blood Diamond</td>\n",
       "            <td>52.792678</td>\n",
       "        </tr>\n",
       "        <tr>\n",
       "            <td>Safe House</td>\n",
       "            <td>34.773106</td>\n",
       "        </tr>\n",
       "        <tr>\n",
       "            <td>Mandela: Long Walk to Freedom</td>\n",
       "            <td>15.50957</td>\n",
       "        </tr>\n",
       "        <tr>\n",
       "            <td>Catch a Fire</td>\n",
       "            <td>4.052219</td>\n",
       "        </tr>\n",
       "        <tr>\n",
       "            <td>Catch a Fire</td>\n",
       "            <td>4.052219</td>\n",
       "        </tr>\n",
       "        <tr>\n",
       "            <td>Tsotsi</td>\n",
       "            <td>2.504169</td>\n",
       "        </tr>\n",
       "        <tr>\n",
       "            <td>Tsotsi</td>\n",
       "            <td>2.504169</td>\n",
       "        </tr>\n",
       "        <tr>\n",
       "            <td>Gangster&#x27;s Paradise: Jerusalema</td>\n",
       "            <td>1.717376</td>\n",
       "        </tr>\n",
       "    </tbody>\n",
       "</table>"
      ],
      "text/plain": [
       "[('District 9', 63.13678),\n",
       " ('District 9', 63.13678),\n",
       " ('Blood Diamond', 52.792678),\n",
       " ('Safe House', 34.773106),\n",
       " ('Mandela: Long Walk to Freedom', 15.50957),\n",
       " ('Catch a Fire', 4.052219),\n",
       " ('Catch a Fire', 4.052219),\n",
       " ('Tsotsi', 2.504169),\n",
       " ('Tsotsi', 2.504169),\n",
       " (\"Gangster's Paradise: Jerusalema\", 1.717376)]"
      ]
     },
     "execution_count": 23,
     "metadata": {},
     "output_type": "execute_result"
    }
   ],
   "source": [
    "%%sql \n",
    "SELECT m.title, m.popularity\n",
    "FROM movies m\n",
    "JOIN languagemap lm ON m.movie_id = lm.movie_id\n",
    "WHERE lm.iso_639_1 IN ('af', 'zu')\n",
    "ORDER BY m.popularity DESC\n",
    "LIMIT 10;"
   ]
  },
  {
   "cell_type": "markdown",
   "metadata": {
    "id": "eJltWXG3Jqn5"
   },
   "source": [
    "### Question 26\n",
    "What would be the code to change the name of the language with the ‘zh’ iso code in the “language” table to ‘Chinese’?\n"
   ]
  },
  {
   "cell_type": "code",
   "execution_count": 24,
   "metadata": {
    "id": "1mxP-GuPJqn5"
   },
   "outputs": [
    {
     "name": "stdout",
     "output_type": "stream",
     "text": [
      " * sqlite:///TMDB.db\n",
      "1 rows affected.\n"
     ]
    },
    {
     "data": {
      "text/plain": [
       "[]"
      ]
     },
     "execution_count": 24,
     "metadata": {},
     "output_type": "execute_result"
    }
   ],
   "source": [
    "%%sql \n",
    "UPDATE languages \n",
    "SET language_name = 'Chinese' \n",
    "WHERE iso_639_1 = 'zh';"
   ]
  },
  {
   "cell_type": "markdown",
   "metadata": {
    "id": "B2vmIMtTJqn5"
   },
   "source": [
    "### Question 27\n",
    "What would be the code to insert a new genre called ‘Sport’ with an id of 10? \n"
   ]
  },
  {
   "cell_type": "code",
   "execution_count": 43,
   "metadata": {},
   "outputs": [
    {
     "name": "stdout",
     "output_type": "stream",
     "text": [
      " * sqlite:///TMDB.db\n",
      "1 rows affected.\n"
     ]
    },
    {
     "data": {
      "text/plain": [
       "[]"
      ]
     },
     "execution_count": 43,
     "metadata": {},
     "output_type": "execute_result"
    }
   ],
   "source": [
    "#%%sql\n",
    "#DELETE FROM genres WHERE genre_id = 10 AND genre_name='Sport';"
   ]
  },
  {
   "cell_type": "code",
   "execution_count": 44,
   "metadata": {
    "id": "KxHhto3QJqn5"
   },
   "outputs": [
    {
     "name": "stdout",
     "output_type": "stream",
     "text": [
      " * sqlite:///TMDB.db\n",
      "1 rows affected.\n"
     ]
    },
    {
     "data": {
      "text/plain": [
       "[]"
      ]
     },
     "execution_count": 44,
     "metadata": {},
     "output_type": "execute_result"
    }
   ],
   "source": [
    "%%sql\n",
    "INSERT INTO genres (genre_id, genre_name) VALUES (10, 'Sport');"
   ]
  },
  {
   "cell_type": "markdown",
   "metadata": {
    "id": "wJLGKPNqJqn5"
   },
   "source": [
    "### Question 28 \n",
    "You have just watched The Flintstones movie and did not find it very funny. What code would delete the entry that links The Flintstones to the Comedy genre?\n"
   ]
  },
  {
   "cell_type": "code",
   "execution_count": 31,
   "metadata": {
    "id": "ClMS3iSiJqn5"
   },
   "outputs": [
    {
     "name": "stdout",
     "output_type": "stream",
     "text": [
      " * sqlite:///TMDB.db\n",
      "0 rows affected.\n"
     ]
    },
    {
     "data": {
      "text/plain": [
       "[]"
      ]
     },
     "execution_count": 31,
     "metadata": {},
     "output_type": "execute_result"
    }
   ],
   "source": [
    "%%sql \n",
    "DELETE\n",
    "FROM genremap\n",
    "WHERE genre_id = 35 AND movie_id = 888;"
   ]
  },
  {
   "cell_type": "markdown",
   "metadata": {
    "id": "ZHMUw-F3Jqn5"
   },
   "source": [
    "### Question 29\n",
    "What code will give the 10 most recently released movies in the database? \n"
   ]
  },
  {
   "cell_type": "code",
   "execution_count": 27,
   "metadata": {
    "id": "T7ZoP3zHJqn6"
   },
   "outputs": [
    {
     "name": "stdout",
     "output_type": "stream",
     "text": [
      " * sqlite:///TMDB.db\n",
      "Done.\n"
     ]
    },
    {
     "data": {
      "text/html": [
       "<table>\n",
       "    <thead>\n",
       "        <tr>\n",
       "            <th>movie_id</th>\n",
       "            <th>title</th>\n",
       "            <th>release_date</th>\n",
       "            <th>budget</th>\n",
       "            <th>homepage</th>\n",
       "            <th>original_language</th>\n",
       "            <th>original_title</th>\n",
       "            <th>overview</th>\n",
       "            <th>popularity</th>\n",
       "            <th>revenue</th>\n",
       "            <th>runtime</th>\n",
       "            <th>release_status</th>\n",
       "            <th>tagline</th>\n",
       "            <th>vote_average</th>\n",
       "            <th>vote_count</th>\n",
       "        </tr>\n",
       "    </thead>\n",
       "    <tbody>\n",
       "        <tr>\n",
       "            <td>426469</td>\n",
       "            <td>Growing Up Smith</td>\n",
       "            <td>2017-02-03 00:00:00.000000</td>\n",
       "            <td>0</td>\n",
       "            <td>http://www.growingupsmithmovie.com</td>\n",
       "            <td>en</td>\n",
       "            <td>Growing Up Smith</td>\n",
       "            <td>&quot;In 1979, an Indian family moves to America with hopes of living the American Dream. While their 10-year-old boy Smith falls head-over-heels for the girl next door, his desire to become a &quot;&quot;good old boy&quot;&quot; propels him further away from his family&#x27;s ideals than ever before.&quot;</td>\n",
       "            <td>0.71087</td>\n",
       "            <td>0.0</td>\n",
       "            <td>102.0</td>\n",
       "            <td>Released</td>\n",
       "            <td>ItÆs better to stand out than to fit in.</td>\n",
       "            <td>7.4</td>\n",
       "            <td>7</td>\n",
       "        </tr>\n",
       "        <tr>\n",
       "            <td>325373</td>\n",
       "            <td>Two Lovers and a Bear</td>\n",
       "            <td>2016-10-02 00:00:00.000000</td>\n",
       "            <td>0</td>\n",
       "            <td>None</td>\n",
       "            <td>en</td>\n",
       "            <td>Two Lovers and a Bear</td>\n",
       "            <td>Set in a small town near the North Pole where roads lead to nowhere, the story follows Roman and Lucy, two burning souls who come together to make a leap for life and inner peace.</td>\n",
       "            <td>3.139294</td>\n",
       "            <td>0.0</td>\n",
       "            <td>96.0</td>\n",
       "            <td>Released</td>\n",
       "            <td>None</td>\n",
       "            <td>6.8</td>\n",
       "            <td>27</td>\n",
       "        </tr>\n",
       "        <tr>\n",
       "            <td>374461</td>\n",
       "            <td>Mr. Church</td>\n",
       "            <td>2016-09-16 00:00:00.000000</td>\n",
       "            <td>8000000</td>\n",
       "            <td>None</td>\n",
       "            <td>en</td>\n",
       "            <td>Mr. Church</td>\n",
       "            <td>A unique friendship develops when a little girl and her dying mother inherit a cook - Mr. Church. What begins as an arrangement that should only last six months, instead spans fifteen years.</td>\n",
       "            <td>7.828459</td>\n",
       "            <td>0.0</td>\n",
       "            <td>104.0</td>\n",
       "            <td>Released</td>\n",
       "            <td>He was the one person she could always count on.</td>\n",
       "            <td>7.0</td>\n",
       "            <td>129</td>\n",
       "        </tr>\n",
       "        <tr>\n",
       "            <td>339408</td>\n",
       "            <td>The Birth of a Nation</td>\n",
       "            <td>2016-09-09 00:00:00.000000</td>\n",
       "            <td>8500000</td>\n",
       "            <td>http://www.foxsearchlight.com/thebirthofanation/</td>\n",
       "            <td>en</td>\n",
       "            <td>The Birth of a Nation</td>\n",
       "            <td>Nat Turner, a former slave in America, leads a liberation movement in 1831 to free African-Americans in Virgina that results in a violent retaliation from whites.</td>\n",
       "            <td>9.452808</td>\n",
       "            <td>15861566.0</td>\n",
       "            <td>120.0</td>\n",
       "            <td>Released</td>\n",
       "            <td>The Untold Story of Nat Turner</td>\n",
       "            <td>6.5</td>\n",
       "            <td>178</td>\n",
       "        </tr>\n",
       "        <tr>\n",
       "            <td>385736</td>\n",
       "            <td>Kicks</td>\n",
       "            <td>2016-09-09 00:00:00.000000</td>\n",
       "            <td>0</td>\n",
       "            <td>http://www.focusfeatures.com/kicks</td>\n",
       "            <td>en</td>\n",
       "            <td>Kicks</td>\n",
       "            <td>When his hard-earned kicks get snatched by a local hood, fifteen-year old Brandon and his two best friends go on an ill-advised mission across the Bay Area to retrieve the stolen sneakers.</td>\n",
       "            <td>3.467923</td>\n",
       "            <td>0.0</td>\n",
       "            <td>80.0</td>\n",
       "            <td>Released</td>\n",
       "            <td>They aren&#x27;t just shoes</td>\n",
       "            <td>7.5</td>\n",
       "            <td>18</td>\n",
       "        </tr>\n",
       "        <tr>\n",
       "            <td>332285</td>\n",
       "            <td>Antibirth</td>\n",
       "            <td>2016-09-02 00:00:00.000000</td>\n",
       "            <td>35000000</td>\n",
       "            <td>None</td>\n",
       "            <td>en</td>\n",
       "            <td>Antibirth</td>\n",
       "            <td>In a desolate community full of drug-addled Marines and rumors of kidnapping, a wild-eyed stoner named Lou wakes up after a crazy night of partying with symptoms of a strange illness and recurring visions. As she struggles to get a grip on reality, the stories of conspiracy spread.</td>\n",
       "            <td>3.674294</td>\n",
       "            <td>0.0</td>\n",
       "            <td>94.0</td>\n",
       "            <td>Released</td>\n",
       "            <td>None</td>\n",
       "            <td>4.8</td>\n",
       "            <td>40</td>\n",
       "        </tr>\n",
       "        <tr>\n",
       "            <td>184341</td>\n",
       "            <td>Hands of Stone</td>\n",
       "            <td>2016-08-26 00:00:00.000000</td>\n",
       "            <td>20000000</td>\n",
       "            <td>None</td>\n",
       "            <td>en</td>\n",
       "            <td>Hands of Stone</td>\n",
       "            <td>The legendary Roberto Duran and his equally legendary trainer Ray Arcel change each other&#x27;s lives.</td>\n",
       "            <td>7.444189</td>\n",
       "            <td>0.0</td>\n",
       "            <td>105.0</td>\n",
       "            <td>Released</td>\n",
       "            <td>No mßs. No surrender.</td>\n",
       "            <td>6.1</td>\n",
       "            <td>109</td>\n",
       "        </tr>\n",
       "        <tr>\n",
       "            <td>271969</td>\n",
       "            <td>Ben-Hur</td>\n",
       "            <td>2016-08-17 00:00:00.000000</td>\n",
       "            <td>100000000</td>\n",
       "            <td>http://www.benhurmovie.com/</td>\n",
       "            <td>en</td>\n",
       "            <td>Ben-Hur</td>\n",
       "            <td>A falsely accused nobleman survives years of slavery to take vengeance on his best friend who betrayed him.</td>\n",
       "            <td>29.608322</td>\n",
       "            <td>94061311.0</td>\n",
       "            <td>125.0</td>\n",
       "            <td>Released</td>\n",
       "            <td>First to finish. Last to die.</td>\n",
       "            <td>5.3</td>\n",
       "            <td>621</td>\n",
       "        </tr>\n",
       "        <tr>\n",
       "            <td>294272</td>\n",
       "            <td>Pete&#x27;s Dragon</td>\n",
       "            <td>2016-08-10 00:00:00.000000</td>\n",
       "            <td>65000000</td>\n",
       "            <td>http://movies.disney.com/petes-dragon-2016</td>\n",
       "            <td>en</td>\n",
       "            <td>Pete&#x27;s Dragon</td>\n",
       "            <td>Pete is a mysterious 10-year-old with no family and no home who claims to live in the woods with a giant, green dragon named Elliott. With the help of Natalie, an 11-year-old girl whose father Jack owns the local lumber mill, forest ranger Grace sets out to determine where Pete came from, where he belongs, and the truth about this dragon.</td>\n",
       "            <td>31.974359</td>\n",
       "            <td>143695338.0</td>\n",
       "            <td>102.0</td>\n",
       "            <td>Released</td>\n",
       "            <td>Some secrets are too big to keep.</td>\n",
       "            <td>6.2</td>\n",
       "            <td>679</td>\n",
       "        </tr>\n",
       "        <tr>\n",
       "            <td>297761</td>\n",
       "            <td>Suicide Squad</td>\n",
       "            <td>2016-08-02 00:00:00.000000</td>\n",
       "            <td>175000000</td>\n",
       "            <td>http://www.suicidesquad.com/</td>\n",
       "            <td>en</td>\n",
       "            <td>Suicide Squad</td>\n",
       "            <td>From DC Comics comes the Suicide Squad, an antihero team of incarcerated supervillains who act as deniable assets for the United States government, undertaking high-risk black ops missions in exchange for commuted prison sentences.</td>\n",
       "            <td>90.23792</td>\n",
       "            <td>745000000.0</td>\n",
       "            <td>123.0</td>\n",
       "            <td>Released</td>\n",
       "            <td>Worst Heroes Ever</td>\n",
       "            <td>5.9</td>\n",
       "            <td>7458</td>\n",
       "        </tr>\n",
       "    </tbody>\n",
       "</table>"
      ],
      "text/plain": [
       "[(426469, 'Growing Up Smith', '2017-02-03 00:00:00.000000', 0, 'http://www.growingupsmithmovie.com', 'en', 'Growing Up Smith', '\"In 1979, an Indian family moves to America with hopes of living the American Dream. While their 10-year-old boy Smith falls head-over-heels for the girl next door, his desire to become a \"\"good old boy\"\" propels him further away from his family\\'s ideals than ever before.\"', 0.71087, 0.0, 102.0, 'Released', 'ItÆs better to stand out than to fit in.', 7.4, 7),\n",
       " (325373, 'Two Lovers and a Bear', '2016-10-02 00:00:00.000000', 0, None, 'en', 'Two Lovers and a Bear', 'Set in a small town near the North Pole where roads lead to nowhere, the story follows Roman and Lucy, two burning souls who come together to make a leap for life and inner peace.', 3.139294, 0.0, 96.0, 'Released', None, 6.8, 27),\n",
       " (374461, 'Mr. Church', '2016-09-16 00:00:00.000000', 8000000, None, 'en', 'Mr. Church', 'A unique friendship develops when a little girl and her dying mother inherit a cook - Mr. Church. What begins as an arrangement that should only last six months, instead spans fifteen years.', 7.828459, 0.0, 104.0, 'Released', 'He was the one person she could always count on.', 7.0, 129),\n",
       " (339408, 'The Birth of a Nation', '2016-09-09 00:00:00.000000', 8500000, 'http://www.foxsearchlight.com/thebirthofanation/', 'en', 'The Birth of a Nation', 'Nat Turner, a former slave in America, leads a liberation movement in 1831 to free African-Americans in Virgina that results in a violent retaliation from whites.', 9.452808, 15861566.0, 120.0, 'Released', 'The Untold Story of Nat Turner', 6.5, 178),\n",
       " (385736, 'Kicks', '2016-09-09 00:00:00.000000', 0, 'http://www.focusfeatures.com/kicks', 'en', 'Kicks', 'When his hard-earned kicks get snatched by a local hood, fifteen-year old Brandon and his two best friends go on an ill-advised mission across the Bay Area to retrieve the stolen sneakers.', 3.467923, 0.0, 80.0, 'Released', \"They aren't just shoes\", 7.5, 18),\n",
       " (332285, 'Antibirth', '2016-09-02 00:00:00.000000', 35000000, None, 'en', 'Antibirth', 'In a desolate community full of drug-addled Marines and rumors of kidnapping, a wild-eyed stoner named Lou wakes up after a crazy night of partying with symptoms of a strange illness and recurring visions. As she struggles to get a grip on reality, the stories of conspiracy spread.', 3.674294, 0.0, 94.0, 'Released', None, 4.8, 40),\n",
       " (184341, 'Hands of Stone', '2016-08-26 00:00:00.000000', 20000000, None, 'en', 'Hands of Stone', \"The legendary Roberto Duran and his equally legendary trainer Ray Arcel change each other's lives.\", 7.444189, 0.0, 105.0, 'Released', 'No mßs. No surrender.', 6.1, 109),\n",
       " (271969, 'Ben-Hur', '2016-08-17 00:00:00.000000', 100000000, 'http://www.benhurmovie.com/', 'en', 'Ben-Hur', 'A falsely accused nobleman survives years of slavery to take vengeance on his best friend who betrayed him.', 29.608322, 94061311.0, 125.0, 'Released', 'First to finish. Last to die.', 5.3, 621),\n",
       " (294272, \"Pete's Dragon\", '2016-08-10 00:00:00.000000', 65000000, 'http://movies.disney.com/petes-dragon-2016', 'en', \"Pete's Dragon\", 'Pete is a mysterious 10-year-old with no family and no home who claims to live in the woods with a giant, green dragon named Elliott. With the help o ... (42 characters truncated) ... r Jack owns the local lumber mill, forest ranger Grace sets out to determine where Pete came from, where he belongs, and the truth about this dragon.', 31.974359, 143695338.0, 102.0, 'Released', 'Some secrets are too big to keep.', 6.2, 679),\n",
       " (297761, 'Suicide Squad', '2016-08-02 00:00:00.000000', 175000000, 'http://www.suicidesquad.com/', 'en', 'Suicide Squad', 'From DC Comics comes the Suicide Squad, an antihero team of incarcerated supervillains who act as deniable assets for the United States government, undertaking high-risk black ops missions in exchange for commuted prison sentences.', 90.23792, 745000000.0, 123.0, 'Released', 'Worst Heroes Ever', 5.9, 7458)]"
      ]
     },
     "execution_count": 27,
     "metadata": {},
     "output_type": "execute_result"
    }
   ],
   "source": [
    "%%sql \n",
    "SELECT * \n",
    "FROM movies \n",
    "ORDER BY release_date DESC \n",
    "LIMIT 10;"
   ]
  },
  {
   "cell_type": "markdown",
   "metadata": {
    "id": "vf3P99TuJqn6"
   },
   "source": [
    "### Question 30\n",
    "What code would you use to add a column to the language table that could be used for the English names of the different languages?"
   ]
  },
  {
   "cell_type": "code",
   "execution_count": 32,
   "metadata": {
    "id": "UTxH_gcCJqn6"
   },
   "outputs": [
    {
     "name": "stdout",
     "output_type": "stream",
     "text": [
      " * sqlite:///TMDB.db\n",
      "Done.\n"
     ]
    },
    {
     "data": {
      "text/plain": [
       "[]"
      ]
     },
     "execution_count": 32,
     "metadata": {},
     "output_type": "execute_result"
    }
   ],
   "source": [
    "%%sql \n",
    "ALTER TABLE languages ADD language_english_name VARCHAR(50);"
   ]
  },
  {
   "cell_type": "code",
   "execution_count": null,
   "metadata": {},
   "outputs": [],
   "source": []
  }
 ],
 "metadata": {
  "colab": {
   "name": "EDSA Final Exam pt1_SQL section_student version.ipynb",
   "provenance": []
  },
  "kernelspec": {
   "display_name": "Python 3 (ipykernel)",
   "language": "python",
   "name": "python3"
  },
  "language_info": {
   "codemirror_mode": {
    "name": "ipython",
    "version": 3
   },
   "file_extension": ".py",
   "mimetype": "text/x-python",
   "name": "python",
   "nbconvert_exporter": "python",
   "pygments_lexer": "ipython3",
   "version": "3.11.7"
  }
 },
 "nbformat": 4,
 "nbformat_minor": 1
}
